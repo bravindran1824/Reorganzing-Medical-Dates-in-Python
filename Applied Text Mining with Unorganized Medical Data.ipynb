{
 "cells": [
  {
   "cell_type": "code",
   "execution_count": 172,
   "id": "155da40c",
   "metadata": {},
   "outputs": [],
   "source": [
    "import pandas\n"
   ]
  },
  {
   "cell_type": "code",
   "execution_count": 173,
   "id": "aedce8f9",
   "metadata": {},
   "outputs": [
    {
     "data": {
      "text/plain": [
       "0         03/25/93 Total time of visit (in minutes):\\n\n",
       "1                       6/18/85 Primary Care Doctor:\\n\n",
       "2    sshe plans to move as of 7/8/71 In-Home Servic...\n",
       "3                7 on 9/27/75 Audit C Score Current:\\n\n",
       "4    2/6/96 sleep studyPain Treatment Pain Level (N...\n",
       "5                    .Per 7/06/79 Movement D/O note:\\n\n",
       "6    4, 5/18/78 Patient's thoughts about current su...\n",
       "7    10/24/89 CPT Code: 90801 - Psychiatric Diagnos...\n",
       "8                         3/7/86 SOS-10 Total Score:\\n\n",
       "9             (4/10/71)Score-1Audit C Score Current:\\n\n",
       "dtype: object"
      ]
     },
     "execution_count": 173,
     "metadata": {},
     "output_type": "execute_result"
    }
   ],
   "source": [
    "doc = []\n",
    "with open ('dates.txt') as file:\n",
    "    for line in file:\n",
    "        doc.append(line)\n",
    "data = pandas.Series(doc)\n",
    "data.head(10)"
   ]
  },
  {
   "cell_type": "code",
   "execution_count": 174,
   "id": "276a1e9c",
   "metadata": {},
   "outputs": [
    {
     "data": {
      "text/plain": [
       "<bound method NDFrame.describe of 0           03/25/93 Total time of visit (in minutes):\\n\n",
       "1                         6/18/85 Primary Care Doctor:\\n\n",
       "2      sshe plans to move as of 7/8/71 In-Home Servic...\n",
       "3                  7 on 9/27/75 Audit C Score Current:\\n\n",
       "4      2/6/96 sleep studyPain Treatment Pain Level (N...\n",
       "                             ...                        \n",
       "495    1979 Family Psych History: Family History of S...\n",
       "496    therapist and friend died in ~2006 Parental/Ca...\n",
       "497                         2008 partial thyroidectomy\\n\n",
       "498    sPt describes a history of sexual abuse as a c...\n",
       "499    . In 1980, patient was living in Naples and de...\n",
       "Length: 500, dtype: object>"
      ]
     },
     "execution_count": 174,
     "metadata": {},
     "output_type": "execute_result"
    }
   ],
   "source": [
    "data.describe"
   ]
  },
  {
   "cell_type": "code",
   "execution_count": 175,
   "id": "e18e43c1",
   "metadata": {},
   "outputs": [],
   "source": [
    "#cardinality\n",
    "ZERO_OR_MORE = '*'\n",
    "ONE_OR_MORE = '+'\n",
    "ZERO_OR_ONE = '?'\n",
    "EXACTLY_TWO = \"{2}\"\n",
    "ONE_OR_TWO = \"{1,2}\"\n",
    "EXACTLY_ONE = '{1}'"
   ]
  },
  {
   "cell_type": "code",
   "execution_count": 176,
   "id": "a4c80581",
   "metadata": {},
   "outputs": [],
   "source": [
    "#GROUPS\n",
    "GROUP = r\"({})\"\n",
    "NAMED = r\"(?P<{}>{})\"\n",
    "CLASS = \"[{}]\"\n",
    "NEGATIVE_LOOKAHEAD = \"(?!{})\"\n",
    "NEGATIVE_LOOKBEHIND = \"(?<!{})\"\n",
    "POSITIVE_LOOKAHEAD = \"(?={})\"\n",
    "POSITIVE_LOOKBEHIND = \"(?<={})\"\n",
    "ESCAPE = \"\\{}\""
   ]
  },
  {
   "cell_type": "code",
   "execution_count": 177,
   "id": "acfecfe8",
   "metadata": {},
   "outputs": [],
   "source": [
    "#NUMBERS\n",
    "DIGIT = r\"\\d\"\n",
    "ONE_DIGIT = DIGIT + EXACTLY_ONE\n",
    "ONE_OR_TWO_DIGITS = DIGIT + ONE_OR_TWO\n",
    "NON_DIGIT = NEGATIVE_LOOKAHEAD.format(DIGIT)\n",
    "TWO_DIGITS = DIGIT + EXACTLY_TWO\n",
    "THREE_DIGITS = DIGIT + \"{3}\"\n",
    "EXACTLY_TWO_DIGITS = DIGIT + EXACTLY_TWO + NON_DIGIT\n",
    "FOUR_DIGITS = DIGIT + R\"{4}\" + NON_DIGIT"
   ]
  },
  {
   "cell_type": "code",
   "execution_count": 178,
   "id": "217b8464",
   "metadata": {},
   "outputs": [],
   "source": [
    "#STRING LITERALS\n",
    "SLASH = r\"/\"\n",
    "OR = r'|'\n",
    "LOWER_CASE = \"a-z\"\n",
    "SPACE = \"\\s\"\n",
    "DOT = \".\"\n",
    "DASH = \"-\"\n",
    "COMMA = \",\"\n",
    "PUNCTUATION = CLASS.format(DOT + COMMA + DASH)\n",
    "EMPTY_STRING = \"\"\n"
   ]
  },
  {
   "cell_type": "code",
   "execution_count": 179,
   "id": "179fd1d4",
   "metadata": {},
   "outputs": [],
   "source": [
    "#DATES\n",
    "MONTH_SUFFIX = (CLASS.format(LOWER_CASE) + ZERO_OR_MORE\n",
    "                + CLASS.format(SPACE + DOT + COMMA + DASH) + ONE_OR_TWO)\n",
    "MONTH_PREFIXES = \"Jan Feb Mar Apr May Jun Jul Aug Sep Oct Nov Dec\".split()\n",
    "MONTHS = [month + MONTH_SUFFIX for month in MONTH_PREFIXES]\n",
    "MONTHS = GROUP.format(OR.join(MONTHS))\n",
    "DAY_SUFFIX = CLASS.format(DASH + COMMA + SPACE) + ONE_OR_TWO\n",
    "DAYS = ONE_OR_TWO_DIGITS + DAY_SUFFIX\n",
    "YEAR = FOUR_DIGITS\n"
   ]
  },
  {
   "cell_type": "code",
   "execution_count": 180,
   "id": "b7bb9086",
   "metadata": {},
   "outputs": [],
   "source": [
    "#example jan 1st, 2022\n",
    "CONTRACTED = (ONE_OR_TWO_DIGITS \n",
    "             + LOWER_CASE \n",
    "             + EXACTLY_TWO)\n",
    "CONTRACTION = NAMED.format(\"contraction\",\n",
    "                          MONTHS \n",
    "                          + CONTRACTED \n",
    "                          + DAY_SUFFIX\n",
    "                          + YEAR)"
   ]
  },
  {
   "cell_type": "code",
   "execution_count": 181,
   "id": "3ee255d2",
   "metadata": {},
   "outputs": [],
   "source": [
    "#example Jan 2022\n",
    "NO_DAY_BEHIND = NEGATIVE_LOOKBEHIND.format(DIGIT + SPACE)\n",
    "NO_DAY = NAMED.format(\"no_day\", NO_DAY_BEHIND + MONTHS + YEAR)"
   ]
  },
  {
   "cell_type": "code",
   "execution_count": 182,
   "id": "73058626",
   "metadata": {},
   "outputs": [],
   "source": [
    "#Example Jan 1st, 2022\n",
    "WORDS = NAMED.format(\"words\", MONTHS + DAYS + YEAR)"
   ]
  },
  {
   "cell_type": "code",
   "execution_count": 183,
   "id": "e926b81c",
   "metadata": {},
   "outputs": [],
   "source": [
    "BACKWARDS = NAMED.format(\"backwards\", ONE_OR_TWO_DIGITS + SPACE + MONTHS + YEAR)"
   ]
  },
  {
   "cell_type": "code",
   "execution_count": 184,
   "id": "bf3ec1bc",
   "metadata": {},
   "outputs": [],
   "source": [
    "slashed = SLASH.join ([ONE_OR_TWO_DIGITS, \n",
    "                      ONE_OR_TWO_DIGITS,\n",
    "                      EXACTLY_TWO_DIGITS])\n",
    "dashed = DASH.join([ONE_OR_TWO_DIGITS,\n",
    "                   ONE_OR_TWO_DIGITS,\n",
    "                   EXACTLY_TWO_DIGITS])\n",
    "TWENTIETH_CENTURY = NAMED.format(\"twentieth\",\n",
    "                                 OR.join([slashed, dashed]))"
   ]
  },
  {
   "cell_type": "code",
   "execution_count": 185,
   "id": "dd78a9d9",
   "metadata": {},
   "outputs": [],
   "source": [
    "NUMERIC = NAMED.format(\"numeric\",\n",
    "                      SLASH.join([ONE_OR_TWO_DIGITS,\n",
    "                                 ONE_OR_TWO_DIGITS,\n",
    "                                 FOUR_DIGITS]))"
   ]
  },
  {
   "cell_type": "code",
   "execution_count": 186,
   "id": "0362b284",
   "metadata": {},
   "outputs": [],
   "source": [
    "NO_PRECEDING_SLASH = NEGATIVE_LOOKBEHIND.format(SLASH)\n",
    "NO_PRECEDING_SLASH_DIGIT = NEGATIVE_LOOKBEHIND.format(CLASS.format(SLASH + DIGIT))\n",
    "NO_ONE_DAY = (NO_PRECEDING_SLASH_DIGIT\n",
    "             + ONE_DIGIT\n",
    "             + SLASH\n",
    "             + FOUR_DIGITS)\n",
    "NO_TWO_DAYS = (NO_PRECEDING_SLASH\n",
    "              + TWO_DIGITS\n",
    "              + SLASH\n",
    "              +FOUR_DIGITS)\n",
    "NO_DAY_NUMERIC = NAMED.format(\"no_day_numeric\",\n",
    "                             NO_ONE_DAY\n",
    "                             + OR\n",
    "                             + NO_TWO_DAYS)"
   ]
  },
  {
   "cell_type": "code",
   "execution_count": 187,
   "id": "07e96244",
   "metadata": {},
   "outputs": [],
   "source": [
    "CENTURY = GROUP.format ('19' + OR + \"20\") + TWO_DIGITS\n",
    "DIGIT_SLASH = DIGIT + SLASH\n",
    "DIGIT_DASH = DIGIT + DASH\n",
    "DIGIT_SPACE = DIGIT + SPACE\n",
    "LETTER_SPACE = CLASS.format(LOWER_CASE) + SPACE\n",
    "COMMA_SPACE = COMMA + SPACE\n",
    "YEAR_PREFIX = NEGATIVE_LOOKBEHIND.format(OR.join([\n",
    "    DIGIT_SLASH,\n",
    "    DIGIT_DASH,\n",
    "    DIGIT_SPACE,\n",
    "    LETTER_SPACE,\n",
    "    COMMA_SPACE,\n",
    "]))\n",
    "YEAR_ONLY = NAMED.format(\"year_only\",\n",
    "                         YEAR_PREFIX + CENTURY)"
   ]
  },
  {
   "cell_type": "code",
   "execution_count": 188,
   "id": "f706c7f3",
   "metadata": {},
   "outputs": [],
   "source": [
    "IN_PREFIX = POSITIVE_LOOKBEHIND.format(CLASS.format('iI') + 'n' + SPACE) + CENTURY\n",
    "SINCE_PREFIX = POSITIVE_LOOKBEHIND.format(CLASS.format(\"Ss\") + 'ince' + SPACE) + CENTURY\n",
    "AGE = POSITIVE_LOOKBEHIND.format(\"Age\" + SPACE + TWO_DIGITS + COMMA + SPACE) + CENTURY\n",
    "AGE_COMMA = POSITIVE_LOOKBEHIND.format(\"Age\" + COMMA + SPACE + TWO_DIGITS + COMMA + SPACE) + CENTURY\n",
    "OTHERS = ['delivery', \"quit\", \"attempt\", \"nephrectomy\", THREE_DIGITS]\n",
    "OTHERS = [POSITIVE_LOOKBEHIND.format(label + SPACE) + CENTURY for label in OTHERS]\n",
    "OTHERS = OR.join(OTHERS)\n",
    "LEFTOVERS_PREFIX = OR.join ([IN_PREFIX, SINCE_PREFIX, AGE, AGE_COMMA]) + OR + OTHERS\n",
    "LEFTOVERS = NAMED.format(\"leftovers\", LEFTOVERS_PREFIX)"
   ]
  },
  {
   "cell_type": "code",
   "execution_count": 189,
   "id": "115af960",
   "metadata": {},
   "outputs": [],
   "source": [
    "DATE = NAMED.format (\"date\", OR.join([NUMERIC,\n",
    "                                     TWENTIETH_CENTURY,\n",
    "                                     WORDS, \n",
    "                                     BACKWARDS,\n",
    "                                     CONTRACTION,\n",
    "                                     NO_DAY,\n",
    "                                     NO_DAY_NUMERIC,\n",
    "                                     YEAR_ONLY,\n",
    "                                     LEFTOVERS]))"
   ]
  },
  {
   "cell_type": "code",
   "execution_count": 190,
   "id": "6ba7071e",
   "metadata": {},
   "outputs": [],
   "source": [
    "def twentieth_century(date):\n",
    "    \"\"\"adds 19 to the year\"\"\"\n",
    "    month, day, year = date.group(1).split(SLASH)\n",
    "    year = \"19{}\".format(year)\n",
    "    return SLASH.join([month, day,year])\n",
    "    "
   ]
  },
  {
   "cell_type": "code",
   "execution_count": 191,
   "id": "1d0d17a6",
   "metadata": {},
   "outputs": [],
   "source": [
    "def take_two(line):\n",
    "    match = re.search(TWENTIETH_CENTURY, line)\n",
    "    if match:\n",
    "        return twentieth_century(match)\n",
    "    return line\n"
   ]
  },
  {
   "cell_type": "code",
   "execution_count": 192,
   "id": "beecfb55",
   "metadata": {},
   "outputs": [],
   "source": [
    "def extract_and_count(expression, data, name):\n",
    "    \"\"\"extract matches and says the count\"\"\"\n",
    "    extracted = data.str.extractall(expression)[name]\n",
    "    count = len(extracted)\n",
    "    print(\"'{}' matched {} rows\".format(name,count))\n",
    "    return extracted, count"
   ]
  },
  {
   "cell_type": "code",
   "execution_count": 193,
   "id": "f975005a",
   "metadata": {},
   "outputs": [
    {
     "name": "stdout",
     "output_type": "stream",
     "text": [
      "'numeric' matched 25 rows\n",
      "'twentieth' matched 100 rows\n",
      "'words' matched 34 rows\n",
      "'backwards' matched 69 rows\n",
      "'contraction' matched 0 rows\n",
      "'no_day' matched 115 rows\n",
      "'no_day_numeric' matched 112 rows\n",
      "'year_only' matched 15 rows\n",
      "'leftovers' matched 30 rows\n"
     ]
    }
   ],
   "source": [
    "numeric, numeric_count = extract_and_count(NUMERIC, data, 'numeric')\n",
    "twentieth, twentieth_count = extract_and_count(TWENTIETH_CENTURY, data, 'twentieth')\n",
    "words, words_count = extract_and_count(WORDS, data, 'words')\n",
    "backwards, backwards_count = extract_and_count(BACKWARDS, data, 'backwards')\n",
    "contraction_data, contraction = extract_and_count(CONTRACTION, data, 'contraction')\n",
    "no_day, no_day_count = extract_and_count(NO_DAY, data, 'no_day')\n",
    "no_day_numeric, no_day_numeric_count = extract_and_count(NO_DAY_NUMERIC, data, \"no_day_numeric\")\n",
    "year_only, year_only_count = extract_and_count(YEAR_ONLY, data, \"year_only\")\n",
    "leftovers, leftovers_count = extract_and_count(LEFTOVERS, data, \"leftovers\")"
   ]
  },
  {
   "cell_type": "code",
   "execution_count": 194,
   "id": "a78d2e45",
   "metadata": {},
   "outputs": [
    {
     "name": "stdout",
     "output_type": "stream",
     "text": [
      "Total Found: 500\n",
      "Remaining: 0\n",
      "Discrepancy: 0\n"
     ]
    }
   ],
   "source": [
    "found = data.str.extractall(DATE)\n",
    "total_found = len(found.date)\n",
    "print(\"Total Found: {}\".format(total_found))\n",
    "print(\"Remaining: {}\".format(len(data) - total_found))\n",
    "print(\"Discrepancy: {}\".format(total_found - (numeric_count\n",
    "                                             + twentieth_count\n",
    "                                             + words_count\n",
    "                                             + backwards_count\n",
    "                                             + contraction\n",
    "                                             + no_day_count\n",
    "                                             + no_day_numeric_count\n",
    "                                             + year_only_count\n",
    "                                             + leftovers_count)))"
   ]
  },
  {
   "cell_type": "code",
   "execution_count": 195,
   "id": "53469f03",
   "metadata": {},
   "outputs": [],
   "source": [
    "#total found: 500\n",
    "#remaining: 0\n",
    "#discrepancy: 0"
   ]
  },
  {
   "cell_type": "code",
   "execution_count": 196,
   "id": "565cf0e2",
   "metadata": {},
   "outputs": [
    {
     "name": "stdout",
     "output_type": "stream",
     "text": [
      "all rows matched\n"
     ]
    }
   ],
   "source": [
    "missing = [label for label in data.index if label not in found.index.levels[0]]\n",
    "try:\n",
    "    print(missing[0], data.loc[missing[0]])\n",
    "except IndexError:\n",
    "    print(\"all rows matched\")"
   ]
  },
  {
   "cell_type": "code",
   "execution_count": 197,
   "id": "5989f49f",
   "metadata": {},
   "outputs": [],
   "source": [
    "#all rows matched"
   ]
  },
  {
   "cell_type": "code",
   "execution_count": 198,
   "id": "94476832",
   "metadata": {},
   "outputs": [],
   "source": [
    "def clean(source, expression, replacement, sample = 5):\n",
    "    print(\"Random Sample Before:\")\n",
    "    print(source.sample(sample))\n",
    "    cleaned = source.str.replace(expression, replacement)\n",
    "    print(\"\\nRandom Sample After:\")\n",
    "    print(cleaned.sample(sample))\n",
    "    print(\"\\nCount of Cleaned: {}\".format(len(cleaned)))\n",
    "    assert len(source) == len(cleaned)\n",
    "    return cleaned"
   ]
  },
  {
   "cell_type": "code",
   "execution_count": 199,
   "id": "2f817c4b",
   "metadata": {},
   "outputs": [],
   "source": [
    "def clean_punctuation(source, sample =5):\n",
    "    print(\"Cleaning Punctuation\")\n",
    "    if any(source.str.contains(PUNCTUATION)):\n",
    "        source = clean(source, PUNCTUATION, EMPTY_STRING)\n",
    "    return source"
   ]
  },
  {
   "cell_type": "code",
   "execution_count": 200,
   "id": "da509872",
   "metadata": {},
   "outputs": [],
   "source": [
    "LONG_TO_SHORT = dict(January = \"Jan\",\n",
    "                    February = \"Feb\",\n",
    "                    March = \"Mar\",\n",
    "                    April = \"Apr\",\n",
    "                    May = \"May\",\n",
    "                    June = \"Jun\",\n",
    "                    July = \"Jul\",\n",
    "                    August = \"Aug\",\n",
    "                    September = \"Sep\",\n",
    "                    October = \"Oct\",\n",
    "                    November = \"Nov\",\n",
    "                    December = \"Dec\")\n",
    "LONG_TO_SHORT_EXPRESSION = OR.join([GROUP.format(month)\n",
    "                                   + CLASS.format(LOWER_CASE)\n",
    "                                   + ZERO_OR_MORE\n",
    "                                   for month in LONG_TO_SHORT.values()])\n",
    "def long_month_to_short(match):\n",
    "    return match.group(match.lastindex)"
   ]
  },
  {
   "cell_type": "code",
   "execution_count": 201,
   "id": "002105d4",
   "metadata": {},
   "outputs": [],
   "source": [
    "def convert_long_months_to_short(source, sample = 5):\n",
    "    return clean(source,\n",
    "                LONG_TO_SHORT_EXPRESSION,\n",
    "                long_month_to_short)"
   ]
  },
  {
   "cell_type": "code",
   "execution_count": 202,
   "id": "17747098",
   "metadata": {},
   "outputs": [],
   "source": [
    "def add_month_date(match):\n",
    "    return \"01/01/\" + match.group()"
   ]
  },
  {
   "cell_type": "code",
   "execution_count": 203,
   "id": "6dc1b8d7",
   "metadata": {},
   "outputs": [],
   "source": [
    "def add_january_one(source):\n",
    "    return clean(source, YEAR_ONLY, add_month_date)"
   ]
  },
  {
   "cell_type": "code",
   "execution_count": 204,
   "id": "00d116a9",
   "metadata": {},
   "outputs": [],
   "source": [
    "two_digit_expression = GROUP.format(ONE_OR_TWO_DIGITS) + POSITIVE_LOOKAHEAD.format(SLASH)\n",
    "def two_digits(match):\n",
    "    return \"{:02}\".format(int(match.group()))\n"
   ]
  },
  {
   "cell_type": "code",
   "execution_count": 205,
   "id": "ae2ee2e8",
   "metadata": {},
   "outputs": [],
   "source": [
    "def clean_two_digits (source, sample = 5):\n",
    "    return clean(source, two_digit_expression, two_digits, sample)"
   ]
  },
  {
   "cell_type": "code",
   "execution_count": 206,
   "id": "b6b5a713",
   "metadata": {},
   "outputs": [],
   "source": [
    "def clean_two_digits_isolated(source, sample =5):\n",
    "    return clean (source, ONE_OR_TWO_DIGITS, two_digits, sample)"
   ]
  },
  {
   "cell_type": "code",
   "execution_count": 207,
   "id": "8881e148",
   "metadata": {},
   "outputs": [],
   "source": [
    "digits = (\"{:02}\".format(month) for month in range(1,13))\n",
    "MONTH_TO_DIGITS = dict(zip(MONTH_PREFIXES, digits))\n",
    "SHORT_MONTHS_EXPRESSION = OR.join((GROUP.format(month) for month in MONTH_TO_DIGITS))\n",
    "def month_to_digits(match):\n",
    "    return MONTH_TO_DIGITS[match.group()]\n"
   ]
  },
  {
   "cell_type": "code",
   "execution_count": 208,
   "id": "0ee97b82",
   "metadata": {},
   "outputs": [],
   "source": [
    "def convert_short_month_to_digits(source, sample = 5):\n",
    "    return clean (source,\n",
    "                 SHORT_MONTHS_EXRPRESSION,\n",
    "                 month_to_digits,\n",
    "                 sample)"
   ]
  },
  {
   "cell_type": "code",
   "execution_count": 209,
   "id": "77bafc7f",
   "metadata": {},
   "outputs": [],
   "source": [
    "def clean_months(source, sample=5):\n",
    "    cleaned = clean_punctuation(source)\n",
    "    print(\"Converting long months to short\")\n",
    "    cleaned = clean (cleaned, LONG_TO_SHORT_EXPRESSION,\n",
    "                    long_month_to_short, sample)\n",
    "    print(\"Converting short months to digits\")\n",
    "    cleaned = clean(cleaned, SHORT_MONTHS_EXPRESSION,\n",
    "                   month_to_digits, sample)\n",
    "    return cleaned"
   ]
  },
  {
   "cell_type": "code",
   "execution_count": 210,
   "id": "e716bd8f",
   "metadata": {},
   "outputs": [],
   "source": [
    "def frame_to_series(frame, index_source, samples=5):\n",
    "    combined = frame.month + SLASH + frame.day + SLASH + frame.year\n",
    "    combined.index = index_source.index\n",
    "    print(combined.sample(samples))\n",
    "    return combined"
   ]
  },
  {
   "cell_type": "code",
   "execution_count": 211,
   "id": "0ee1b7d8",
   "metadata": {},
   "outputs": [
    {
     "name": "stdout",
     "output_type": "stream",
     "text": [
      "Random Sample Before:\n",
      "     match\n",
      "478  0        1993\n",
      "481  0        1974\n",
      "483  0        1995\n",
      "486  0        1973\n",
      "466  0        1981\n",
      "Name: year_only, dtype: object\n",
      "\n",
      "Random Sample After:\n",
      "     match\n",
      "481  0        01/01/1974\n",
      "486  0        01/01/1973\n",
      "472  0        01/01/2010\n",
      "483  0        01/01/1995\n",
      "470  0        01/01/1983\n",
      "Name: year_only, dtype: object\n",
      "\n",
      "Count of Cleaned: 15\n"
     ]
    },
    {
     "name": "stderr",
     "output_type": "stream",
     "text": [
      "/var/folders/vr/w4mk08vj2_l_l280wsytlh4w0000gn/T/ipykernel_22272/968746162.py:4: FutureWarning: The default value of regex will change from True to False in a future version.\n",
      "  cleaned = source.str.replace(expression, replacement)\n"
     ]
    }
   ],
   "source": [
    "year_only_cleaned = add_january_one(year_only)"
   ]
  },
  {
   "cell_type": "code",
   "execution_count": 212,
   "id": "7692b87d",
   "metadata": {},
   "outputs": [
    {
     "name": "stdout",
     "output_type": "stream",
     "text": [
      "Random Sample Before:\n",
      "     match\n",
      "488  0        1977\n",
      "499  0        1980\n",
      "457  0        2001\n",
      "491  0        2009\n",
      "463  0        2014\n",
      "Name: leftovers, dtype: object\n",
      "\n",
      "Random Sample After:\n",
      "     match\n",
      "465  0        01/01/1976\n",
      "469  0        01/01/2003\n",
      "484  0        01/01/2004\n",
      "475  0        01/01/2015\n",
      "485  0        01/01/1987\n",
      "Name: leftovers, dtype: object\n",
      "\n",
      "Count of Cleaned: 30\n"
     ]
    },
    {
     "name": "stderr",
     "output_type": "stream",
     "text": [
      "/var/folders/vr/w4mk08vj2_l_l280wsytlh4w0000gn/T/ipykernel_22272/968746162.py:4: FutureWarning: The default value of regex will change from True to False in a future version.\n",
      "  cleaned = source.str.replace(expression, replacement)\n"
     ]
    }
   ],
   "source": [
    "leftovers_cleaned = add_january_one(leftovers)"
   ]
  },
  {
   "cell_type": "code",
   "execution_count": 213,
   "id": "a78be011",
   "metadata": {},
   "outputs": [
    {
     "name": "stdout",
     "output_type": "stream",
     "text": [
      "45\n"
     ]
    }
   ],
   "source": [
    "cleaned = pandas.concat([year_only_cleaned, leftovers_cleaned])\n",
    "print(len(cleaned))"
   ]
  },
  {
   "cell_type": "code",
   "execution_count": 214,
   "id": "d55d2127",
   "metadata": {},
   "outputs": [
    {
     "name": "stdout",
     "output_type": "stream",
     "text": [
      "Random Sample Before:\n",
      "     match\n",
      "447  0         7/1985\n",
      "345  0        10/1973\n",
      "406  0        12/1994\n",
      "348  0        12/2005\n",
      "414  0         4/2004\n",
      "Name: no_day_numeric, dtype: object\n",
      "\n",
      "Random Sample After:\n",
      "     match\n",
      "377  0        06/2001\n",
      "372  0        05/1995\n",
      "381  0        01/2014\n",
      "360  0        12/2008\n",
      "424  0        04/1979\n",
      "Name: no_day_numeric, dtype: object\n",
      "\n",
      "Count of Cleaned: 112\n"
     ]
    },
    {
     "name": "stderr",
     "output_type": "stream",
     "text": [
      "/var/folders/vr/w4mk08vj2_l_l280wsytlh4w0000gn/T/ipykernel_22272/968746162.py:4: FutureWarning: The default value of regex will change from True to False in a future version.\n",
      "  cleaned = source.str.replace(expression, replacement)\n"
     ]
    }
   ],
   "source": [
    "no_day_numeric_cleaned = clean_two_digits(no_day_numeric)\n"
   ]
  },
  {
   "cell_type": "code",
   "execution_count": 215,
   "id": "e5375e30",
   "metadata": {},
   "outputs": [
    {
     "name": "stdout",
     "output_type": "stream",
     "text": [
      "Random Sample Before:\n",
      "     match\n",
      "428  0        12/2007\n",
      "450  0        01/1994\n",
      "409  0        10/1994\n",
      "373  0        08/1989\n",
      "368  0        08/1986\n",
      "Name: no_day_numeric, dtype: object\n",
      "\n",
      "Random Sample After:\n",
      "     match\n",
      "412  0        03/01/1990\n",
      "363  0        12/01/1975\n",
      "357  0        10/01/1993\n",
      "394  0        10/01/2001\n",
      "442  0        09/01/1992\n",
      "Name: no_day_numeric, dtype: object\n",
      "\n",
      "Count of Cleaned: 112\n"
     ]
    }
   ],
   "source": [
    "no_day_numeric_cleaned = clean(no_day_numeric_cleaned,\n",
    "                               SLASH,\n",
    "                               lambda m: \"/01/\")"
   ]
  },
  {
   "cell_type": "code",
   "execution_count": 216,
   "id": "0cc1ab17",
   "metadata": {},
   "outputs": [],
   "source": [
    "original = len(cleaned)\n",
    "cleaned = pandas.concat([cleaned, no_day_numeric_cleaned])\n",
    "assert len(cleaned) == no_day_numeric_count + original"
   ]
  },
  {
   "cell_type": "code",
   "execution_count": 217,
   "id": "b653293b",
   "metadata": {},
   "outputs": [
    {
     "name": "stdout",
     "output_type": "stream",
     "text": [
      "157\n"
     ]
    }
   ],
   "source": [
    "print(len(cleaned))\n"
   ]
  },
  {
   "cell_type": "code",
   "execution_count": 218,
   "id": "22e9279a",
   "metadata": {},
   "outputs": [
    {
     "name": "stdout",
     "output_type": "stream",
     "text": [
      "Cleaning Punctuation\n",
      "Random Sample Before:\n",
      "     match\n",
      "313  0        Decemeber 1978\n",
      "305  0              Feb 2000\n",
      "315  0              Jun 1976\n",
      "281  0              Aug 2004\n",
      "228  0        September 1985\n",
      "Name: no_day, dtype: object\n",
      "\n",
      "Random Sample After:\n",
      "     match\n",
      "259  0            Nov 1979\n",
      "300  0        January 1994\n",
      "322  0        October 1991\n",
      "304  0            Mar 2002\n",
      "289  0            Sep 2007\n",
      "Name: no_day, dtype: object\n",
      "\n",
      "Count of Cleaned: 115\n",
      "COnverting long months to short\n",
      "Random Sample Before:\n",
      "     match\n",
      "263  0        September 1981\n",
      "301  0              Dec 1992\n",
      "265  0            April 1989\n",
      "241  0              May 2004\n",
      "230  0              May 1986\n",
      "Name: no_day, dtype: object\n",
      "\n",
      "Random Sample After:\n",
      "     match\n",
      "237  0        Feb 1976\n",
      "269  0        Jul 1992\n",
      "298  0        Jan 1993\n",
      "257  0        Sep 2015\n",
      "317  0        Mar 1975\n",
      "Name: no_day, dtype: object\n",
      "\n",
      "Count of Cleaned: 115\n",
      "Converting short months to digits\n",
      "Random Sample Before:\n",
      "     match\n",
      "332  0        Jun 1974\n",
      "240  0        May 2011\n",
      "264  0        Jun 2007\n",
      "249  0        Apr 1993\n",
      "282  0        May 2012\n",
      "Name: no_day, dtype: object\n",
      "\n",
      "Random Sample After:\n",
      "     match\n",
      "238  0        01 1995\n",
      "328  0        05 2001\n",
      "341  0        11 2007\n",
      "231  0        05 2016\n",
      "244  0        01 2013\n",
      "Name: no_day, dtype: object\n",
      "\n",
      "Count of Cleaned: 115\n"
     ]
    },
    {
     "name": "stderr",
     "output_type": "stream",
     "text": [
      "/var/folders/vr/w4mk08vj2_l_l280wsytlh4w0000gn/T/ipykernel_22272/968746162.py:4: FutureWarning: The default value of regex will change from True to False in a future version.\n",
      "  cleaned = source.str.replace(expression, replacement)\n"
     ]
    }
   ],
   "source": [
    "no_day_cleaned = clean_months(no_day)\n"
   ]
  },
  {
   "cell_type": "code",
   "execution_count": 219,
   "id": "eb24a970",
   "metadata": {},
   "outputs": [
    {
     "name": "stdout",
     "output_type": "stream",
     "text": [
      "Random Sample Before:\n",
      "     match\n",
      "252  0        01 2007\n",
      "300  0        01 1994\n",
      "310  0        10 1992\n",
      "284  0        01 1987\n",
      "271  0        08 2008\n",
      "Name: no_day, dtype: object\n",
      "\n",
      "Random Sample After:\n",
      "     match\n",
      "275  0        09/01/1984\n",
      "315  0        06/01/1976\n",
      "244  0        01/01/2013\n",
      "237  0        02/01/1976\n",
      "304  0        03/01/2002\n",
      "Name: no_day, dtype: object\n",
      "\n",
      "Count of Cleaned: 115\n"
     ]
    },
    {
     "name": "stderr",
     "output_type": "stream",
     "text": [
      "/var/folders/vr/w4mk08vj2_l_l280wsytlh4w0000gn/T/ipykernel_22272/968746162.py:4: FutureWarning: The default value of regex will change from True to False in a future version.\n",
      "  cleaned = source.str.replace(expression, replacement)\n"
     ]
    }
   ],
   "source": [
    "no_day_cleaned = clean(no_day_cleaned,\n",
    "                       SPACE + ONE_OR_MORE,\n",
    "                       lambda match: \"/01/\")"
   ]
  },
  {
   "cell_type": "code",
   "execution_count": 220,
   "id": "37c63385",
   "metadata": {},
   "outputs": [
    {
     "name": "stdout",
     "output_type": "stream",
     "text": [
      "272\n"
     ]
    }
   ],
   "source": [
    "original = len(cleaned)\n",
    "cleaned = pandas.concat([cleaned, no_day_cleaned])\n",
    "print(len(cleaned))\n"
   ]
  },
  {
   "cell_type": "code",
   "execution_count": 221,
   "id": "d1f6e868",
   "metadata": {},
   "outputs": [],
   "source": [
    "assert len(cleaned) == no_day_count + original\n"
   ]
  },
  {
   "cell_type": "code",
   "execution_count": 222,
   "id": "42a98263",
   "metadata": {},
   "outputs": [
    {
     "data": {
      "text/html": [
       "<div>\n",
       "<style scoped>\n",
       "    .dataframe tbody tr th:only-of-type {\n",
       "        vertical-align: middle;\n",
       "    }\n",
       "\n",
       "    .dataframe tbody tr th {\n",
       "        vertical-align: top;\n",
       "    }\n",
       "\n",
       "    .dataframe thead th {\n",
       "        text-align: right;\n",
       "    }\n",
       "</style>\n",
       "<table border=\"1\" class=\"dataframe\">\n",
       "  <thead>\n",
       "    <tr style=\"text-align: right;\">\n",
       "      <th></th>\n",
       "      <th>day</th>\n",
       "      <th>month</th>\n",
       "      <th>year</th>\n",
       "    </tr>\n",
       "  </thead>\n",
       "  <tbody>\n",
       "    <tr>\n",
       "      <th>0</th>\n",
       "      <td>24</td>\n",
       "      <td>Jan</td>\n",
       "      <td>2001</td>\n",
       "    </tr>\n",
       "    <tr>\n",
       "      <th>1</th>\n",
       "      <td>10</td>\n",
       "      <td>Sep</td>\n",
       "      <td>2004</td>\n",
       "    </tr>\n",
       "    <tr>\n",
       "      <th>2</th>\n",
       "      <td>26</td>\n",
       "      <td>May</td>\n",
       "      <td>1982</td>\n",
       "    </tr>\n",
       "    <tr>\n",
       "      <th>3</th>\n",
       "      <td>28</td>\n",
       "      <td>June</td>\n",
       "      <td>2002</td>\n",
       "    </tr>\n",
       "    <tr>\n",
       "      <th>4</th>\n",
       "      <td>06</td>\n",
       "      <td>May</td>\n",
       "      <td>1972</td>\n",
       "    </tr>\n",
       "  </tbody>\n",
       "</table>\n",
       "</div>"
      ],
      "text/plain": [
       "  day month  year\n",
       "0  24   Jan  2001\n",
       "1  10   Sep  2004\n",
       "2  26   May  1982\n",
       "3  28  June  2002\n",
       "4  06   May  1972"
      ]
     },
     "execution_count": 222,
     "metadata": {},
     "output_type": "execute_result"
    }
   ],
   "source": [
    "frame = pandas.DataFrame(backwards.str.split().tolist(),\n",
    "                         columns=\"day month year\".split())\n",
    "frame.head()"
   ]
  },
  {
   "cell_type": "code",
   "execution_count": 223,
   "id": "82c75dc3",
   "metadata": {},
   "outputs": [
    {
     "name": "stdout",
     "output_type": "stream",
     "text": [
      "Random Sample Before:\n",
      "43    13\n",
      "46    04\n",
      "31    26\n",
      "55    09\n",
      "15    14\n",
      "Name: day, dtype: object\n",
      "\n",
      "Random Sample After:\n",
      "4     06\n",
      "44    21\n",
      "42    01\n",
      "36    19\n",
      "8     28\n",
      "Name: day, dtype: object\n",
      "\n",
      "Count of Cleaned: 69\n"
     ]
    },
    {
     "name": "stderr",
     "output_type": "stream",
     "text": [
      "/var/folders/vr/w4mk08vj2_l_l280wsytlh4w0000gn/T/ipykernel_22272/968746162.py:4: FutureWarning: The default value of regex will change from True to False in a future version.\n",
      "  cleaned = source.str.replace(expression, replacement)\n"
     ]
    }
   ],
   "source": [
    "frame.day = clean_two_digits(frame.day)\n"
   ]
  },
  {
   "cell_type": "code",
   "execution_count": 224,
   "id": "6cb8356a",
   "metadata": {},
   "outputs": [
    {
     "name": "stdout",
     "output_type": "stream",
     "text": [
      "Cleaning Punctuation\n",
      "COnverting long months to short\n",
      "Random Sample Before:\n",
      "31    May\n",
      "28    Jan\n",
      "33    Aug\n",
      "42    Oct\n",
      "39    Oct\n",
      "Name: month, dtype: object\n",
      "\n",
      "Random Sample After:\n",
      "12    Feb\n",
      "14    Oct\n",
      "55    Dec\n",
      "25    Mar\n",
      "22    May\n",
      "Name: month, dtype: object\n",
      "\n",
      "Count of Cleaned: 69\n",
      "Converting short months to digits\n",
      "Random Sample Before:\n",
      "62    Jan\n",
      "1     Sep\n",
      "28    Jan\n",
      "50    Oct\n",
      "63    Mar\n",
      "Name: month, dtype: object\n",
      "\n",
      "Random Sample After:\n",
      "27    09\n",
      "46    10\n",
      "4     05\n",
      "13    02\n",
      "21    11\n",
      "Name: month, dtype: object\n",
      "\n",
      "Count of Cleaned: 69\n"
     ]
    },
    {
     "name": "stderr",
     "output_type": "stream",
     "text": [
      "/var/folders/vr/w4mk08vj2_l_l280wsytlh4w0000gn/T/ipykernel_22272/968746162.py:4: FutureWarning: The default value of regex will change from True to False in a future version.\n",
      "  cleaned = source.str.replace(expression, replacement)\n"
     ]
    }
   ],
   "source": [
    "frame.month = clean_months(frame.month)\n"
   ]
  },
  {
   "cell_type": "code",
   "execution_count": 225,
   "id": "9e6903bf",
   "metadata": {},
   "outputs": [
    {
     "name": "stdout",
     "output_type": "stream",
     "text": [
      "     match\n",
      "175  0        10/21/1983\n",
      "141  0        05/30/2016\n",
      "171  0        10/04/1972\n",
      "128  0        06/28/2002\n",
      "158  0        08/23/2000\n",
      "dtype: object\n"
     ]
    }
   ],
   "source": [
    "backwards_cleaned = frame_to_series(frame, backwards)\n"
   ]
  },
  {
   "cell_type": "code",
   "execution_count": 226,
   "id": "fa766215",
   "metadata": {},
   "outputs": [],
   "source": [
    "original = len(cleaned)\n",
    "cleaned = pandas.concat([cleaned, backwards_cleaned])\n",
    "assert len(cleaned) == original + backwards_count"
   ]
  },
  {
   "cell_type": "code",
   "execution_count": 227,
   "id": "1b80549f",
   "metadata": {},
   "outputs": [
    {
     "name": "stdout",
     "output_type": "stream",
     "text": [
      "341\n"
     ]
    }
   ],
   "source": [
    "print(len(cleaned))\n"
   ]
  },
  {
   "cell_type": "code",
   "execution_count": 228,
   "id": "bcba3142",
   "metadata": {},
   "outputs": [
    {
     "name": "stdout",
     "output_type": "stream",
     "text": [
      "      month  day  year\n",
      "0     April  11,  1990\n",
      "1       May  30,  2001\n",
      "2       Feb  18,  1994\n",
      "3  February  18,  1981\n",
      "4  October.  11,  2013\n"
     ]
    }
   ],
   "source": [
    "frame = pandas.DataFrame(words.str.split().tolist(), columns=\"month day year\".split())\n",
    "print(frame.head())"
   ]
  },
  {
   "cell_type": "code",
   "execution_count": 229,
   "id": "16966086",
   "metadata": {},
   "outputs": [
    {
     "name": "stdout",
     "output_type": "stream",
     "text": [
      "Cleaning Punctuation\n",
      "Random Sample Before:\n",
      "6       July\n",
      "27       Oct\n",
      "28       May\n",
      "13    August\n",
      "20      Sep.\n",
      "Name: month, dtype: object\n",
      "\n",
      "Random Sample After:\n",
      "27         Oct\n",
      "16      August\n",
      "24         May\n",
      "26        June\n",
      "7     December\n",
      "Name: month, dtype: object\n",
      "\n",
      "Count of Cleaned: 34\n",
      "COnverting long months to short\n",
      "Random Sample Before:\n",
      "2           Feb\n",
      "4       October\n",
      "14    September\n",
      "6          July\n",
      "16       August\n",
      "Name: month, dtype: object\n",
      "\n",
      "Random Sample After:\n",
      "18    Jul\n",
      "20    Sep\n",
      "7     Dec\n",
      "22    Nov\n",
      "0     Apr\n",
      "Name: month, dtype: object\n",
      "\n",
      "Count of Cleaned: 34\n",
      "Converting short months to digits\n",
      "Random Sample Before:\n",
      "3     Feb\n",
      "21    Aug\n",
      "32    Jan\n",
      "33    Sep\n",
      "23    Jun\n",
      "Name: month, dtype: object\n",
      "\n",
      "Random Sample After:\n",
      "33    09\n",
      "27    10\n",
      "24    05\n",
      "30    07\n",
      "32    01\n",
      "Name: month, dtype: object\n",
      "\n",
      "Count of Cleaned: 34\n"
     ]
    },
    {
     "name": "stderr",
     "output_type": "stream",
     "text": [
      "/var/folders/vr/w4mk08vj2_l_l280wsytlh4w0000gn/T/ipykernel_22272/968746162.py:4: FutureWarning: The default value of regex will change from True to False in a future version.\n",
      "  cleaned = source.str.replace(expression, replacement)\n"
     ]
    }
   ],
   "source": [
    "frame.month = clean_months(frame.month)\n"
   ]
  },
  {
   "cell_type": "code",
   "execution_count": 230,
   "id": "60e02072",
   "metadata": {},
   "outputs": [
    {
     "name": "stdout",
     "output_type": "stream",
     "text": [
      "Cleaning Punctuation\n",
      "Random Sample Before:\n",
      "19    11,\n",
      "32    07,\n",
      "16    11,\n",
      "2     18,\n",
      "15    25,\n",
      "Name: day, dtype: object\n",
      "\n",
      "Random Sample After:\n",
      "32    07\n",
      "5     24\n",
      "22    11\n",
      "30    25\n",
      "3     18\n",
      "Name: day, dtype: object\n",
      "\n",
      "Count of Cleaned: 34\n"
     ]
    },
    {
     "name": "stderr",
     "output_type": "stream",
     "text": [
      "/var/folders/vr/w4mk08vj2_l_l280wsytlh4w0000gn/T/ipykernel_22272/968746162.py:4: FutureWarning: The default value of regex will change from True to False in a future version.\n",
      "  cleaned = source.str.replace(expression, replacement)\n"
     ]
    }
   ],
   "source": [
    "frame.day = clean_punctuation(frame.day)\n"
   ]
  },
  {
   "cell_type": "code",
   "execution_count": 231,
   "id": "eec2ac0d",
   "metadata": {},
   "outputs": [
    {
     "data": {
      "text/html": [
       "<div>\n",
       "<style scoped>\n",
       "    .dataframe tbody tr th:only-of-type {\n",
       "        vertical-align: middle;\n",
       "    }\n",
       "\n",
       "    .dataframe tbody tr th {\n",
       "        vertical-align: top;\n",
       "    }\n",
       "\n",
       "    .dataframe thead th {\n",
       "        text-align: right;\n",
       "    }\n",
       "</style>\n",
       "<table border=\"1\" class=\"dataframe\">\n",
       "  <thead>\n",
       "    <tr style=\"text-align: right;\">\n",
       "      <th></th>\n",
       "      <th>month</th>\n",
       "      <th>day</th>\n",
       "      <th>year</th>\n",
       "    </tr>\n",
       "  </thead>\n",
       "  <tbody>\n",
       "    <tr>\n",
       "      <th>0</th>\n",
       "      <td>04</td>\n",
       "      <td>11</td>\n",
       "      <td>1990</td>\n",
       "    </tr>\n",
       "    <tr>\n",
       "      <th>1</th>\n",
       "      <td>05</td>\n",
       "      <td>30</td>\n",
       "      <td>2001</td>\n",
       "    </tr>\n",
       "    <tr>\n",
       "      <th>2</th>\n",
       "      <td>02</td>\n",
       "      <td>18</td>\n",
       "      <td>1994</td>\n",
       "    </tr>\n",
       "    <tr>\n",
       "      <th>3</th>\n",
       "      <td>02</td>\n",
       "      <td>18</td>\n",
       "      <td>1981</td>\n",
       "    </tr>\n",
       "    <tr>\n",
       "      <th>4</th>\n",
       "      <td>10</td>\n",
       "      <td>11</td>\n",
       "      <td>2013</td>\n",
       "    </tr>\n",
       "  </tbody>\n",
       "</table>\n",
       "</div>"
      ],
      "text/plain": [
       "  month day  year\n",
       "0    04  11  1990\n",
       "1    05  30  2001\n",
       "2    02  18  1994\n",
       "3    02  18  1981\n",
       "4    10  11  2013"
      ]
     },
     "execution_count": 231,
     "metadata": {},
     "output_type": "execute_result"
    }
   ],
   "source": [
    "frame.head()\n"
   ]
  },
  {
   "cell_type": "code",
   "execution_count": 232,
   "id": "b7654caa",
   "metadata": {},
   "outputs": [
    {
     "name": "stdout",
     "output_type": "stream",
     "text": [
      "     match\n",
      "210  0        08/11/1989\n",
      "227  0        09/15/2011\n",
      "209  0        07/25/1983\n",
      "217  0        06/13/2011\n",
      "200  0        07/26/1978\n",
      "dtype: object\n"
     ]
    }
   ],
   "source": [
    "words_cleaned = frame_to_series(frame, words)\n"
   ]
  },
  {
   "cell_type": "code",
   "execution_count": 233,
   "id": "fad5ffee",
   "metadata": {},
   "outputs": [
    {
     "name": "stdout",
     "output_type": "stream",
     "text": [
      "375\n"
     ]
    }
   ],
   "source": [
    "original = len(cleaned)\n",
    "cleaned = pandas.concat([cleaned, words_cleaned])\n",
    "assert len(cleaned) == original + words_count\n",
    "print(len(cleaned))"
   ]
  },
  {
   "cell_type": "code",
   "execution_count": 234,
   "id": "9c388d5b",
   "metadata": {},
   "outputs": [
    {
     "name": "stdout",
     "output_type": "stream",
     "text": [
      "4-13-82\n",
      "01/01/1991\n"
     ]
    }
   ],
   "source": [
    "print(twentieth.iloc[21])\n",
    "twentieth_cleaned = twentieth.str.replace(DASH, SLASH)\n",
    "print(cleaned.iloc[21])"
   ]
  },
  {
   "cell_type": "code",
   "execution_count": 235,
   "id": "c4ff2c54",
   "metadata": {},
   "outputs": [
    {
     "name": "stdout",
     "output_type": "stream",
     "text": [
      "  month day year\n",
      "0    03  25   93\n",
      "1     6  18   85\n",
      "2     7   8   71\n",
      "3     9  27   75\n",
      "4     2   6   96\n"
     ]
    }
   ],
   "source": [
    "frame = pandas.DataFrame(twentieth_cleaned.str.split(SLASH).tolist(),\n",
    "                         columns=[\"month\", \"day\", \"year\"])\n",
    "print(frame.head())"
   ]
  },
  {
   "cell_type": "code",
   "execution_count": 236,
   "id": "609b22e4",
   "metadata": {},
   "outputs": [
    {
     "name": "stdout",
     "output_type": "stream",
     "text": [
      "Random Sample Before:\n",
      "40     2\n",
      "28    06\n",
      "25    10\n",
      "50    02\n",
      "7     10\n",
      "Name: month, dtype: object\n",
      "\n",
      "Random Sample After:\n",
      "62    12\n",
      "54    07\n",
      "36    08\n",
      "81    09\n",
      "63    04\n",
      "Name: month, dtype: object\n",
      "\n",
      "Count of Cleaned: 100\n"
     ]
    },
    {
     "name": "stderr",
     "output_type": "stream",
     "text": [
      "/var/folders/vr/w4mk08vj2_l_l280wsytlh4w0000gn/T/ipykernel_22272/968746162.py:4: FutureWarning: The default value of regex will change from True to False in a future version.\n",
      "  cleaned = source.str.replace(expression, replacement)\n"
     ]
    }
   ],
   "source": [
    "frame.month = clean_two_digits_isolated(frame.month)\n"
   ]
  },
  {
   "cell_type": "code",
   "execution_count": 237,
   "id": "133080b3",
   "metadata": {},
   "outputs": [
    {
     "name": "stdout",
     "output_type": "stream",
     "text": [
      "Random Sample Before:\n",
      "0     25\n",
      "91    05\n",
      "23    02\n",
      "26    20\n",
      "37    15\n",
      "Name: day, dtype: object\n",
      "\n",
      "Random Sample After:\n",
      "98    04\n",
      "7     24\n",
      "38    12\n",
      "0     25\n",
      "63    22\n",
      "Name: day, dtype: object\n",
      "\n",
      "Count of Cleaned: 100\n"
     ]
    },
    {
     "name": "stderr",
     "output_type": "stream",
     "text": [
      "/var/folders/vr/w4mk08vj2_l_l280wsytlh4w0000gn/T/ipykernel_22272/968746162.py:4: FutureWarning: The default value of regex will change from True to False in a future version.\n",
      "  cleaned = source.str.replace(expression, replacement)\n"
     ]
    }
   ],
   "source": [
    "frame.day = clean_two_digits_isolated(frame.day)\n"
   ]
  },
  {
   "cell_type": "code",
   "execution_count": 238,
   "id": "1b32e787",
   "metadata": {},
   "outputs": [
    {
     "data": {
      "text/html": [
       "<div>\n",
       "<style scoped>\n",
       "    .dataframe tbody tr th:only-of-type {\n",
       "        vertical-align: middle;\n",
       "    }\n",
       "\n",
       "    .dataframe tbody tr th {\n",
       "        vertical-align: top;\n",
       "    }\n",
       "\n",
       "    .dataframe thead th {\n",
       "        text-align: right;\n",
       "    }\n",
       "</style>\n",
       "<table border=\"1\" class=\"dataframe\">\n",
       "  <thead>\n",
       "    <tr style=\"text-align: right;\">\n",
       "      <th></th>\n",
       "      <th>month</th>\n",
       "      <th>day</th>\n",
       "      <th>year</th>\n",
       "    </tr>\n",
       "  </thead>\n",
       "  <tbody>\n",
       "    <tr>\n",
       "      <th>0</th>\n",
       "      <td>03</td>\n",
       "      <td>25</td>\n",
       "      <td>93</td>\n",
       "    </tr>\n",
       "    <tr>\n",
       "      <th>1</th>\n",
       "      <td>06</td>\n",
       "      <td>18</td>\n",
       "      <td>85</td>\n",
       "    </tr>\n",
       "    <tr>\n",
       "      <th>2</th>\n",
       "      <td>07</td>\n",
       "      <td>08</td>\n",
       "      <td>71</td>\n",
       "    </tr>\n",
       "    <tr>\n",
       "      <th>3</th>\n",
       "      <td>09</td>\n",
       "      <td>27</td>\n",
       "      <td>75</td>\n",
       "    </tr>\n",
       "    <tr>\n",
       "      <th>4</th>\n",
       "      <td>02</td>\n",
       "      <td>06</td>\n",
       "      <td>96</td>\n",
       "    </tr>\n",
       "  </tbody>\n",
       "</table>\n",
       "</div>"
      ],
      "text/plain": [
       "  month day year\n",
       "0    03  25   93\n",
       "1    06  18   85\n",
       "2    07  08   71\n",
       "3    09  27   75\n",
       "4    02  06   96"
      ]
     },
     "execution_count": 238,
     "metadata": {},
     "output_type": "execute_result"
    }
   ],
   "source": [
    "frame.head()"
   ]
  },
  {
   "cell_type": "code",
   "execution_count": 239,
   "id": "eb898eb9",
   "metadata": {},
   "outputs": [
    {
     "name": "stdout",
     "output_type": "stream",
     "text": [
      "Random Sample Before:\n",
      "93    77\n",
      "43    92\n",
      "39    84\n",
      "58    77\n",
      "40    75\n",
      "Name: year, dtype: object\n",
      "\n",
      "Random Sample After:\n",
      "58    1977\n",
      "70    1982\n",
      "86    1995\n",
      "27    1987\n",
      "34    1987\n",
      "Name: year, dtype: object\n",
      "\n",
      "Count of Cleaned: 100\n"
     ]
    },
    {
     "name": "stderr",
     "output_type": "stream",
     "text": [
      "/var/folders/vr/w4mk08vj2_l_l280wsytlh4w0000gn/T/ipykernel_22272/968746162.py:4: FutureWarning: The default value of regex will change from True to False in a future version.\n",
      "  cleaned = source.str.replace(expression, replacement)\n"
     ]
    }
   ],
   "source": [
    "frame.year = clean(frame.year, TWO_DIGITS, lambda match: \"19\" + match.group())\n"
   ]
  },
  {
   "cell_type": "code",
   "execution_count": 240,
   "id": "75339097",
   "metadata": {},
   "outputs": [
    {
     "name": "stdout",
     "output_type": "stream",
     "text": [
      "     match\n",
      "21   0        10/21/1979\n",
      "79   0        10/04/1998\n",
      "103  0        09/22/1982\n",
      "76   0        12/05/1987\n",
      "29   0        10/24/1986\n",
      "dtype: object\n"
     ]
    }
   ],
   "source": [
    "twentieth_cleaned = frame_to_series(frame, twentieth)\n"
   ]
  },
  {
   "cell_type": "code",
   "execution_count": 241,
   "id": "b9939504",
   "metadata": {},
   "outputs": [],
   "source": [
    "original = len(cleaned)\n",
    "cleaned = pandas.concat([cleaned, twentieth_cleaned])\n"
   ]
  },
  {
   "cell_type": "code",
   "execution_count": 242,
   "id": "d6a176bf",
   "metadata": {},
   "outputs": [],
   "source": [
    "assert len(cleaned) == original + twentieth_count"
   ]
  },
  {
   "cell_type": "code",
   "execution_count": 243,
   "id": "649bad2a",
   "metadata": {},
   "outputs": [
    {
     "name": "stdout",
     "output_type": "stream",
     "text": [
      "    match\n",
      "14  0         5/24/1990\n",
      "15  0         1/25/2011\n",
      "17  0        10/13/1976\n",
      "24  0        07/25/1984\n",
      "30  0        03/31/1985\n",
      "Name: numeric, dtype: object\n"
     ]
    }
   ],
   "source": [
    "print(numeric.head())"
   ]
  },
  {
   "cell_type": "code",
   "execution_count": 244,
   "id": "24336de0",
   "metadata": {},
   "outputs": [
    {
     "name": "stdout",
     "output_type": "stream",
     "text": [
      "Series([], Name: numeric, dtype: object)\n"
     ]
    }
   ],
   "source": [
    "has_dashes = numeric.str.contains(DASH)\n",
    "print(numeric[has_dashes])"
   ]
  },
  {
   "cell_type": "code",
   "execution_count": 245,
   "id": "3e7db277",
   "metadata": {},
   "outputs": [
    {
     "name": "stdout",
     "output_type": "stream",
     "text": [
      "  month day  year\n",
      "0     5  24  1990\n",
      "1     1  25  2011\n",
      "2    10  13  1976\n",
      "3    07  25  1984\n",
      "4    03  31  1985\n"
     ]
    }
   ],
   "source": [
    "frame = pandas.DataFrame(numeric.str.split(SLASH).tolist(),\n",
    "                         columns=\"month day year\".split())\n",
    "print(frame.head())\n"
   ]
  },
  {
   "cell_type": "code",
   "execution_count": 246,
   "id": "74045e01",
   "metadata": {},
   "outputs": [
    {
     "name": "stdout",
     "output_type": "stream",
     "text": [
      "Random Sample Before:\n",
      "15     7\n",
      "14    01\n",
      "11    08\n",
      "4     03\n",
      "2     10\n",
      "Name: month, dtype: object\n",
      "\n",
      "Random Sample After:\n",
      "6     07\n",
      "24    04\n",
      "3     07\n",
      "2     10\n",
      "8     02\n",
      "Name: month, dtype: object\n",
      "\n",
      "Count of Cleaned: 25\n"
     ]
    },
    {
     "name": "stderr",
     "output_type": "stream",
     "text": [
      "/var/folders/vr/w4mk08vj2_l_l280wsytlh4w0000gn/T/ipykernel_22272/968746162.py:4: FutureWarning: The default value of regex will change from True to False in a future version.\n",
      "  cleaned = source.str.replace(expression, replacement)\n"
     ]
    }
   ],
   "source": [
    "frame.month = clean_two_digits_isolated(frame.month)"
   ]
  },
  {
   "cell_type": "code",
   "execution_count": 247,
   "id": "6b3da207",
   "metadata": {},
   "outputs": [
    {
     "name": "stdout",
     "output_type": "stream",
     "text": [
      "Random Sample Before:\n",
      "24    27\n",
      "13     3\n",
      "20    11\n",
      "0     24\n",
      "16    14\n",
      "Name: day, dtype: object\n",
      "\n",
      "Random Sample After:\n",
      "22    11\n",
      "5     12\n",
      "21    18\n",
      "8     15\n",
      "24    27\n",
      "Name: day, dtype: object\n",
      "\n",
      "Count of Cleaned: 25\n"
     ]
    },
    {
     "name": "stderr",
     "output_type": "stream",
     "text": [
      "/var/folders/vr/w4mk08vj2_l_l280wsytlh4w0000gn/T/ipykernel_22272/968746162.py:4: FutureWarning: The default value of regex will change from True to False in a future version.\n",
      "  cleaned = source.str.replace(expression, replacement)\n"
     ]
    }
   ],
   "source": [
    "frame.day = clean_two_digits_isolated(frame.day)\n"
   ]
  },
  {
   "cell_type": "code",
   "execution_count": 248,
   "id": "e2ca6a9c",
   "metadata": {},
   "outputs": [
    {
     "name": "stdout",
     "output_type": "stream",
     "text": [
      "     match\n",
      "64   0        07/29/1994\n",
      "106  0        02/11/2006\n",
      "15   0        01/25/2011\n",
      "102  0        07/18/2002\n",
      "94   0        12/08/1990\n",
      "dtype: object\n"
     ]
    }
   ],
   "source": [
    "numeric_cleaned = frame_to_series(frame, numeric)\n"
   ]
  },
  {
   "cell_type": "code",
   "execution_count": 249,
   "id": "dfafaddb",
   "metadata": {},
   "outputs": [
    {
     "name": "stdout",
     "output_type": "stream",
     "text": [
      "500\n"
     ]
    }
   ],
   "source": [
    "original = len(cleaned)\n",
    "cleaned = pandas.concat([cleaned, numeric_cleaned])\n",
    "assert len(cleaned) == original + numeric_count\n",
    "print(len(cleaned))"
   ]
  },
  {
   "cell_type": "code",
   "execution_count": 250,
   "id": "c4e85092",
   "metadata": {},
   "outputs": [
    {
     "name": "stdout",
     "output_type": "stream",
     "text": [
      "500\n",
      "    match\n",
      "14  0        05/24/1990\n",
      "15  0        01/25/2011\n",
      "17  0        10/13/1976\n",
      "24  0        07/25/1984\n",
      "30  0        03/31/1985\n",
      "dtype: object\n"
     ]
    }
   ],
   "source": [
    "cleaned = pandas.concat([numeric_cleaned,\n",
    "                         twentieth_cleaned,\n",
    "                         words_cleaned,\n",
    "                         backwards_cleaned,\n",
    "                         no_day_cleaned,\n",
    "                         no_day_numeric_cleaned,\n",
    "                         year_only_cleaned,\n",
    "                         leftovers_cleaned,\n",
    "])\n",
    "print(len(cleaned))\n",
    "print(cleaned.head())\n",
    "assert len(cleaned) == len(data)"
   ]
  },
  {
   "cell_type": "code",
   "execution_count": 251,
   "id": "cf413abd",
   "metadata": {},
   "outputs": [
    {
     "name": "stdout",
     "output_type": "stream",
     "text": [
      "Requirement already satisfied: datetime in ./mambaforge/lib/python3.9/site-packages (4.4)\n",
      "Requirement already satisfied: pytz in ./mambaforge/lib/python3.9/site-packages (from datetime) (2021.3)\n",
      "Requirement already satisfied: zope.interface in ./mambaforge/lib/python3.9/site-packages (from datetime) (5.4.0)\n",
      "Requirement already satisfied: setuptools in ./mambaforge/lib/python3.9/site-packages (from zope.interface->datetime) (58.2.0)\n",
      "Note: you may need to restart the kernel to use updated packages.\n"
     ]
    }
   ],
   "source": [
    "pip install datetime"
   ]
  },
  {
   "cell_type": "code",
   "execution_count": 252,
   "id": "c443c747",
   "metadata": {},
   "outputs": [
    {
     "name": "stdout",
     "output_type": "stream",
     "text": [
      "    match\n",
      "14  0        05/24/1990\n",
      "15  0        01/25/2011\n",
      "17  0        10/13/1976\n",
      "24  0        07/25/1984\n",
      "30  0        03/31/1985\n",
      "dtype: object\n",
      "    match\n",
      "14  0       1990-05-24\n",
      "15  0       2011-01-25\n",
      "17  0       1976-10-13\n",
      "24  0       1984-07-25\n",
      "30  0       1985-03-31\n",
      "dtype: datetime64[ns]\n"
     ]
    }
   ],
   "source": [
    "print(cleaned.head())\n",
    "datetimes = pandas.to_datetime(cleaned, format=\"%m/%d/%Y\")\n",
    "print(datetimes.head())"
   ]
  },
  {
   "cell_type": "code",
   "execution_count": 253,
   "id": "3dc846a8",
   "metadata": {},
   "outputs": [
    {
     "name": "stdout",
     "output_type": "stream",
     "text": [
      "    match\n",
      "9   0       1971-04-10\n",
      "84  0       1971-05-18\n",
      "2   0       1971-07-08\n",
      "53  0       1971-07-11\n",
      "28  0       1971-09-12\n",
      "dtype: datetime64[ns]\n"
     ]
    }
   ],
   "source": [
    "sorted_dates = datetimes.sort_values()\n",
    "print(sorted_dates.head())"
   ]
  },
  {
   "cell_type": "code",
   "execution_count": 257,
   "id": "df289dc9",
   "metadata": {},
   "outputs": [
    {
     "name": "stdout",
     "output_type": "stream",
     "text": [
      "     match\n",
      "231  0       2016-05-01\n",
      "141  0       2016-05-30\n",
      "186  0       2016-10-13\n",
      "161  0       2016-10-19\n",
      "413  0       2016-11-01\n",
      "dtype: datetime64[ns]\n"
     ]
    }
   ],
   "source": [
    "print(sorted_dates.tail())"
   ]
  },
  {
   "cell_type": "code",
   "execution_count": null,
   "id": "17cd3ccc",
   "metadata": {},
   "outputs": [],
   "source": [
    "answer = pandas.Series(sorted_dates.index.labels[0])\n",
    "print(answer.head())"
   ]
  },
  {
   "cell_type": "code",
   "execution_count": null,
   "id": "41c45705",
   "metadata": {},
   "outputs": [],
   "source": [
    "#0   9\n",
    "#1   84\n",
    "#2   2\n",
    "#3   53\n",
    "#4   28\n",
    "#dtype: int16"
   ]
  },
  {
   "cell_type": "code",
   "execution_count": null,
   "id": "acba3a8f",
   "metadata": {},
   "outputs": [],
   "source": [
    "def date_sorter():\n",
    "    return answer"
   ]
  },
  {
   "cell_type": "code",
   "execution_count": null,
   "id": "e6069dde",
   "metadata": {},
   "outputs": [],
   "source": []
  },
  {
   "cell_type": "code",
   "execution_count": null,
   "id": "24ff56ff",
   "metadata": {},
   "outputs": [],
   "source": []
  }
 ],
 "metadata": {
  "kernelspec": {
   "display_name": "Python 3 (ipykernel)",
   "language": "python",
   "name": "python3"
  },
  "language_info": {
   "codemirror_mode": {
    "name": "ipython",
    "version": 3
   },
   "file_extension": ".py",
   "mimetype": "text/x-python",
   "name": "python",
   "nbconvert_exporter": "python",
   "pygments_lexer": "ipython3",
   "version": "3.9.7"
  }
 },
 "nbformat": 4,
 "nbformat_minor": 5
}
